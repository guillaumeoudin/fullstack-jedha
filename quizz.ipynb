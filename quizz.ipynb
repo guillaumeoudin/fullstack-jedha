{
 "cells": [
  {
   "cell_type": "markdown",
   "metadata": {
    "colab_type": "text",
    "id": "g0pXyAlNA5yO"
   },
   "source": [
    "# Build a quiz - Part 2"
   ]
  },
  {
   "cell_type": "markdown",
   "metadata": {
    "colab_type": "text",
    "id": "Erc075nEA5yV"
   },
   "source": [
    "Below is the code we wrote yesterday, that asks three questions to the user and allows up to 3 wrong answers :"
   ]
  },
  {
   "cell_type": "code",
   "execution_count": 1,
   "metadata": {
    "colab": {},
    "colab_type": "code",
    "executionInfo": {
     "elapsed": 670,
     "status": "ok",
     "timestamp": 1600863062836,
     "user": {
      "displayName": "G.",
      "photoUrl": "https://lh3.googleusercontent.com/a-/AOh14GhKfXek-NJWGQQkILLA_EeRZMVFhdvhAoMCZjCJQ6Q=s64",
      "userId": "15323761201690411571"
     },
     "user_tz": -120
    },
    "id": "EDmq2LYFA5ya"
   },
   "outputs": [],
   "source": [
    "def ask_questions(dictionnaire, nb_chances = 3):\n",
    "  for key, value in dictionnaire.items():\n",
    "      if nb_chances > 0:\n",
    "          result = input(key)\n",
    "          if type(result) != str:\n",
    "            result = str(result)\n",
    "          while result.replace(\" \", \"\").lower() != value.replace(\" \", \"\").lower():\n",
    "            nb_chances -= 1\n",
    "            print(\"Dommage ! Il te reste {} chances\".format(nb_chances))\n",
    "            if nb_chances == 0:\n",
    "              print('Oh non ! Tu as perdu le jeu...')\n",
    "              break\n",
    "            else:\n",
    "              result = input(key)\n",
    "  if nb_chances > 0:\n",
    "      print('Bravo, vous avez gagné')"
   ]
  },
  {
   "cell_type": "code",
   "execution_count": 2,
   "metadata": {
    "colab": {},
    "colab_type": "code",
    "executionInfo": {
     "elapsed": 486,
     "status": "ok",
     "timestamp": 1600863033608,
     "user": {
      "displayName": "G.",
      "photoUrl": "https://lh3.googleusercontent.com/a-/AOh14GhKfXek-NJWGQQkILLA_EeRZMVFhdvhAoMCZjCJQ6Q=s64",
      "userId": "15323761201690411571"
     },
     "user_tz": -120
    },
    "id": "dF7Ce2493zUt"
   },
   "outputs": [],
   "source": [
    "dic_questions = {\"Combien de fois la France a gagné la coupe du monde ? \" : \"2\", \"Quand a été fondé Apple ?\":\"1976\", \"Qui a fondé SpaceX ?\":\"elonmusk\" }"
   ]
  },
  {
   "cell_type": "code",
   "execution_count": 3,
   "metadata": {
    "colab": {
     "base_uri": "https://localhost:8080/",
     "height": 122
    },
    "colab_type": "code",
    "executionInfo": {
     "elapsed": 16742,
     "status": "ok",
     "timestamp": 1600863093086,
     "user": {
      "displayName": "G.",
      "photoUrl": "https://lh3.googleusercontent.com/a-/AOh14GhKfXek-NJWGQQkILLA_EeRZMVFhdvhAoMCZjCJQ6Q=s64",
      "userId": "15323761201690411571"
     },
     "user_tz": -120
    },
    "id": "7fLLdlyU3355",
    "outputId": "4f16ad32-a065-4163-d8ac-065568a3b0fd"
   },
   "outputs": [
    {
     "name": "stdout",
     "output_type": "stream",
     "text": [
      "Combien de fois la France a gagné la coupe du monde ? 2\n",
      "Quand a été fondé Apple ?97\n",
      "Dommage ! Il te reste 2 chances\n",
      "Quand a été fondé Apple ?1976\n",
      "Qui a fondé SpaceX ?elon MUSK\n",
      "Bravo, vous avez gagné\n"
     ]
    }
   ],
   "source": [
    "ask_questions(dic_questions)"
   ]
  },
  {
   "cell_type": "markdown",
   "metadata": {},
   "source": [
    "**Bonus : faire tourner le quizz avec l'API Star Wars**"
   ]
  },
  {
   "cell_type": "code",
   "execution_count": 5,
   "metadata": {},
   "outputs": [],
   "source": [
    "import requests\n",
    "request = requests.get(\"https://swapi.dev/api/people/1/\")\n",
    "dic = request.json()"
   ]
  },
  {
   "cell_type": "code",
   "execution_count": null,
   "metadata": {},
   "outputs": [
    {
     "name": "stdout",
     "output_type": "stream",
     "text": [
      "nameLUKE SKYWALKER\n",
      "height172   \n",
      "mass77\n"
     ]
    }
   ],
   "source": [
    "ask_questions(dic)"
   ]
  },
  {
   "cell_type": "code",
   "execution_count": 18,
   "metadata": {},
   "outputs": [
    {
     "data": {
      "text/plain": [
       "{'name': 'Luke Skywalker',\n",
       " 'height': '172',\n",
       " 'mass': '77',\n",
       " 'hair_color': 'blond',\n",
       " 'skin_color': 'fair',\n",
       " 'eye_color': 'blue',\n",
       " 'birth_year': '19BBY',\n",
       " 'gender': 'male',\n",
       " 'homeworld': 'http://swapi.dev/api/planets/1/',\n",
       " 'films': ['http://swapi.dev/api/films/1/',\n",
       "  'http://swapi.dev/api/films/2/',\n",
       "  'http://swapi.dev/api/films/3/',\n",
       "  'http://swapi.dev/api/films/6/'],\n",
       " 'species': [],\n",
       " 'vehicles': ['http://swapi.dev/api/vehicles/14/',\n",
       "  'http://swapi.dev/api/vehicles/30/'],\n",
       " 'starships': ['http://swapi.dev/api/starships/12/',\n",
       "  'http://swapi.dev/api/starships/22/'],\n",
       " 'created': '2014-12-09T13:50:51.644000Z',\n",
       " 'edited': '2014-12-20T21:17:56.891000Z',\n",
       " 'url': 'http://swapi.dev/api/people/1/'}"
      ]
     },
     "execution_count": 18,
     "metadata": {},
     "output_type": "execute_result"
    }
   ],
   "source": [
    "dic"
   ]
  },
  {
   "cell_type": "code",
   "execution_count": 4,
   "metadata": {},
   "outputs": [
    {
     "ename": "NameError",
     "evalue": "name 'dic' is not defined",
     "output_type": "error",
     "traceback": [
      "\u001b[0;31m---------------------------------------------------------------------------\u001b[0m",
      "\u001b[0;31mNameError\u001b[0m                                 Traceback (most recent call last)",
      "\u001b[0;32m<ipython-input-4-b242ecc5e9a3>\u001b[0m in \u001b[0;36m<module>\u001b[0;34m\u001b[0m\n\u001b[0;32m----> 1\u001b[0;31m \u001b[0mask_questions\u001b[0m\u001b[0;34m(\u001b[0m\u001b[0mdic\u001b[0m\u001b[0;34m)\u001b[0m\u001b[0;34m\u001b[0m\u001b[0;34m\u001b[0m\u001b[0m\n\u001b[0m",
      "\u001b[0;31mNameError\u001b[0m: name 'dic' is not defined"
     ]
    }
   ],
   "source": [
    "ask_questions(dic)"
   ]
  },
  {
   "cell_type": "code",
   "execution_count": null,
   "metadata": {},
   "outputs": [],
   "source": []
  }
 ],
 "metadata": {
  "colab": {
   "collapsed_sections": [],
   "name": "02-Rebuild_a_quiz.ipynb",
   "provenance": []
  },
  "kernelspec": {
   "display_name": "Python 3",
   "language": "python",
   "name": "python3"
  },
  "language_info": {
   "codemirror_mode": {
    "name": "ipython",
    "version": 3
   },
   "file_extension": ".py",
   "mimetype": "text/x-python",
   "name": "python",
   "nbconvert_exporter": "python",
   "pygments_lexer": "ipython3",
   "version": "3.7.6"
  }
 },
 "nbformat": 4,
 "nbformat_minor": 1
}
