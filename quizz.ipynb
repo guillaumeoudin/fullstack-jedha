{
 "cells": [
  {
   "cell_type": "markdown",
   "metadata": {
    "colab_type": "text",
    "id": "g0pXyAlNA5yO"
   },
   "source": [
    "# Build a quiz - Part 2"
   ]
  },
  {
   "cell_type": "markdown",
   "metadata": {
    "colab_type": "text",
    "id": "Erc075nEA5yV"
   },
   "source": [
    "Below is the code we wrote yesterday, that asks three questions to the user and allows up to 3 wrong answers :"
   ]
  },
  {
   "cell_type": "code",
   "execution_count": 8,
   "metadata": {
    "colab": {},
    "colab_type": "code",
    "executionInfo": {
     "elapsed": 670,
     "status": "ok",
     "timestamp": 1600863062836,
     "user": {
      "displayName": "G.",
      "photoUrl": "https://lh3.googleusercontent.com/a-/AOh14GhKfXek-NJWGQQkILLA_EeRZMVFhdvhAoMCZjCJQ6Q=s64",
      "userId": "15323761201690411571"
     },
     "user_tz": -120
    },
    "id": "EDmq2LYFA5ya"
   },
   "outputs": [],
   "source": [
    "def ask_questions(dictionnaire, nb_chances = 3):\n",
    "  for key, value in dictionnaire.items():\n",
    "      if nb_chances > 0:\n",
    "          result = input(key)\n",
    "          if type(result) != str:\n",
    "            result = str(result)\n",
    "          while result.replace(\" \", \"\").lower() != value.replace(\" \", \"\").lower():\n",
    "            nb_chances -= 1\n",
    "            print(\"Dommage ! Il te reste {} chances\".format(nb_chances))\n",
    "            if nb_chances == 0:\n",
    "              print('Oh non ! Tu as perdu le jeu...')\n",
    "              break\n",
    "            else:\n",
    "              result = input(key)\n",
    "  if nb_chances > 0:\n",
    "      print('Bravo, vous avez gagné')"
   ]
  },
  {
   "cell_type": "code",
   "execution_count": 2,
   "metadata": {
    "colab": {},
    "colab_type": "code",
    "executionInfo": {
     "elapsed": 486,
     "status": "ok",
     "timestamp": 1600863033608,
     "user": {
      "displayName": "G.",
      "photoUrl": "https://lh3.googleusercontent.com/a-/AOh14GhKfXek-NJWGQQkILLA_EeRZMVFhdvhAoMCZjCJQ6Q=s64",
      "userId": "15323761201690411571"
     },
     "user_tz": -120
    },
    "id": "dF7Ce2493zUt"
   },
   "outputs": [],
   "source": [
    "dic_questions = {\"Combien de fois la France a gagné la coupe du monde ? \" : \"2\", \"Quand a été fondé Apple ?\":\"1976\", \"Qui a fondé SpaceX ?\":\"elonmusk\" }"
   ]
  },
  {
   "cell_type": "code",
   "execution_count": 3,
   "metadata": {
    "colab": {
     "base_uri": "https://localhost:8080/",
     "height": 122
    },
    "colab_type": "code",
    "executionInfo": {
     "elapsed": 16742,
     "status": "ok",
     "timestamp": 1600863093086,
     "user": {
      "displayName": "G.",
      "photoUrl": "https://lh3.googleusercontent.com/a-/AOh14GhKfXek-NJWGQQkILLA_EeRZMVFhdvhAoMCZjCJQ6Q=s64",
      "userId": "15323761201690411571"
     },
     "user_tz": -120
    },
    "id": "7fLLdlyU3355",
    "outputId": "4f16ad32-a065-4163-d8ac-065568a3b0fd"
   },
   "outputs": [
    {
     "name": "stdout",
     "output_type": "stream",
     "text": [
      "Combien de fois la France a gagné la coupe du monde ? 2\n",
      "Quand a été fondé Apple ?97\n",
      "Dommage ! Il te reste 2 chances\n",
      "Quand a été fondé Apple ?1976\n",
      "Qui a fondé SpaceX ?elon MUSK\n",
      "Bravo, vous avez gagné\n"
     ]
    }
   ],
   "source": [
    "ask_questions(dic_questions)"
   ]
  },
  {
   "cell_type": "markdown",
   "metadata": {},
   "source": [
    "**Bonus : faire tourner le quizz avec l'API Star Wars**"
   ]
  },
  {
   "cell_type": "code",
   "execution_count": 23,
   "metadata": {},
   "outputs": [],
   "source": [
    "import requests\n",
    "request = requests.get(\"https://swapi.dev/api/people\")\n",
    "liste_sw = request.json()"
   ]
  },
  {
   "cell_type": "code",
   "execution_count": 24,
   "metadata": {},
   "outputs": [
    {
     "data": {
      "text/plain": [
       "[{'name': 'Luke Skywalker',\n",
       "  'height': '172',\n",
       "  'mass': '77',\n",
       "  'hair_color': 'blond',\n",
       "  'skin_color': 'fair',\n",
       "  'eye_color': 'blue',\n",
       "  'birth_year': '19BBY',\n",
       "  'gender': 'male',\n",
       "  'homeworld': 'http://swapi.dev/api/planets/1/',\n",
       "  'films': ['http://swapi.dev/api/films/1/',\n",
       "   'http://swapi.dev/api/films/2/',\n",
       "   'http://swapi.dev/api/films/3/',\n",
       "   'http://swapi.dev/api/films/6/'],\n",
       "  'species': [],\n",
       "  'vehicles': ['http://swapi.dev/api/vehicles/14/',\n",
       "   'http://swapi.dev/api/vehicles/30/'],\n",
       "  'starships': ['http://swapi.dev/api/starships/12/',\n",
       "   'http://swapi.dev/api/starships/22/'],\n",
       "  'created': '2014-12-09T13:50:51.644000Z',\n",
       "  'edited': '2014-12-20T21:17:56.891000Z',\n",
       "  'url': 'http://swapi.dev/api/people/1/'},\n",
       " {'name': 'C-3PO',\n",
       "  'height': '167',\n",
       "  'mass': '75',\n",
       "  'hair_color': 'n/a',\n",
       "  'skin_color': 'gold',\n",
       "  'eye_color': 'yellow',\n",
       "  'birth_year': '112BBY',\n",
       "  'gender': 'n/a',\n",
       "  'homeworld': 'http://swapi.dev/api/planets/1/',\n",
       "  'films': ['http://swapi.dev/api/films/1/',\n",
       "   'http://swapi.dev/api/films/2/',\n",
       "   'http://swapi.dev/api/films/3/',\n",
       "   'http://swapi.dev/api/films/4/',\n",
       "   'http://swapi.dev/api/films/5/',\n",
       "   'http://swapi.dev/api/films/6/'],\n",
       "  'species': ['http://swapi.dev/api/species/2/'],\n",
       "  'vehicles': [],\n",
       "  'starships': [],\n",
       "  'created': '2014-12-10T15:10:51.357000Z',\n",
       "  'edited': '2014-12-20T21:17:50.309000Z',\n",
       "  'url': 'http://swapi.dev/api/people/2/'},\n",
       " {'name': 'R2-D2',\n",
       "  'height': '96',\n",
       "  'mass': '32',\n",
       "  'hair_color': 'n/a',\n",
       "  'skin_color': 'white, blue',\n",
       "  'eye_color': 'red',\n",
       "  'birth_year': '33BBY',\n",
       "  'gender': 'n/a',\n",
       "  'homeworld': 'http://swapi.dev/api/planets/8/',\n",
       "  'films': ['http://swapi.dev/api/films/1/',\n",
       "   'http://swapi.dev/api/films/2/',\n",
       "   'http://swapi.dev/api/films/3/',\n",
       "   'http://swapi.dev/api/films/4/',\n",
       "   'http://swapi.dev/api/films/5/',\n",
       "   'http://swapi.dev/api/films/6/'],\n",
       "  'species': ['http://swapi.dev/api/species/2/'],\n",
       "  'vehicles': [],\n",
       "  'starships': [],\n",
       "  'created': '2014-12-10T15:11:50.376000Z',\n",
       "  'edited': '2014-12-20T21:17:50.311000Z',\n",
       "  'url': 'http://swapi.dev/api/people/3/'},\n",
       " {'name': 'Darth Vader',\n",
       "  'height': '202',\n",
       "  'mass': '136',\n",
       "  'hair_color': 'none',\n",
       "  'skin_color': 'white',\n",
       "  'eye_color': 'yellow',\n",
       "  'birth_year': '41.9BBY',\n",
       "  'gender': 'male',\n",
       "  'homeworld': 'http://swapi.dev/api/planets/1/',\n",
       "  'films': ['http://swapi.dev/api/films/1/',\n",
       "   'http://swapi.dev/api/films/2/',\n",
       "   'http://swapi.dev/api/films/3/',\n",
       "   'http://swapi.dev/api/films/6/'],\n",
       "  'species': [],\n",
       "  'vehicles': [],\n",
       "  'starships': ['http://swapi.dev/api/starships/13/'],\n",
       "  'created': '2014-12-10T15:18:20.704000Z',\n",
       "  'edited': '2014-12-20T21:17:50.313000Z',\n",
       "  'url': 'http://swapi.dev/api/people/4/'},\n",
       " {'name': 'Leia Organa',\n",
       "  'height': '150',\n",
       "  'mass': '49',\n",
       "  'hair_color': 'brown',\n",
       "  'skin_color': 'light',\n",
       "  'eye_color': 'brown',\n",
       "  'birth_year': '19BBY',\n",
       "  'gender': 'female',\n",
       "  'homeworld': 'http://swapi.dev/api/planets/2/',\n",
       "  'films': ['http://swapi.dev/api/films/1/',\n",
       "   'http://swapi.dev/api/films/2/',\n",
       "   'http://swapi.dev/api/films/3/',\n",
       "   'http://swapi.dev/api/films/6/'],\n",
       "  'species': [],\n",
       "  'vehicles': ['http://swapi.dev/api/vehicles/30/'],\n",
       "  'starships': [],\n",
       "  'created': '2014-12-10T15:20:09.791000Z',\n",
       "  'edited': '2014-12-20T21:17:50.315000Z',\n",
       "  'url': 'http://swapi.dev/api/people/5/'},\n",
       " {'name': 'Owen Lars',\n",
       "  'height': '178',\n",
       "  'mass': '120',\n",
       "  'hair_color': 'brown, grey',\n",
       "  'skin_color': 'light',\n",
       "  'eye_color': 'blue',\n",
       "  'birth_year': '52BBY',\n",
       "  'gender': 'male',\n",
       "  'homeworld': 'http://swapi.dev/api/planets/1/',\n",
       "  'films': ['http://swapi.dev/api/films/1/',\n",
       "   'http://swapi.dev/api/films/5/',\n",
       "   'http://swapi.dev/api/films/6/'],\n",
       "  'species': [],\n",
       "  'vehicles': [],\n",
       "  'starships': [],\n",
       "  'created': '2014-12-10T15:52:14.024000Z',\n",
       "  'edited': '2014-12-20T21:17:50.317000Z',\n",
       "  'url': 'http://swapi.dev/api/people/6/'},\n",
       " {'name': 'Beru Whitesun lars',\n",
       "  'height': '165',\n",
       "  'mass': '75',\n",
       "  'hair_color': 'brown',\n",
       "  'skin_color': 'light',\n",
       "  'eye_color': 'blue',\n",
       "  'birth_year': '47BBY',\n",
       "  'gender': 'female',\n",
       "  'homeworld': 'http://swapi.dev/api/planets/1/',\n",
       "  'films': ['http://swapi.dev/api/films/1/',\n",
       "   'http://swapi.dev/api/films/5/',\n",
       "   'http://swapi.dev/api/films/6/'],\n",
       "  'species': [],\n",
       "  'vehicles': [],\n",
       "  'starships': [],\n",
       "  'created': '2014-12-10T15:53:41.121000Z',\n",
       "  'edited': '2014-12-20T21:17:50.319000Z',\n",
       "  'url': 'http://swapi.dev/api/people/7/'},\n",
       " {'name': 'R5-D4',\n",
       "  'height': '97',\n",
       "  'mass': '32',\n",
       "  'hair_color': 'n/a',\n",
       "  'skin_color': 'white, red',\n",
       "  'eye_color': 'red',\n",
       "  'birth_year': 'unknown',\n",
       "  'gender': 'n/a',\n",
       "  'homeworld': 'http://swapi.dev/api/planets/1/',\n",
       "  'films': ['http://swapi.dev/api/films/1/'],\n",
       "  'species': ['http://swapi.dev/api/species/2/'],\n",
       "  'vehicles': [],\n",
       "  'starships': [],\n",
       "  'created': '2014-12-10T15:57:50.959000Z',\n",
       "  'edited': '2014-12-20T21:17:50.321000Z',\n",
       "  'url': 'http://swapi.dev/api/people/8/'},\n",
       " {'name': 'Biggs Darklighter',\n",
       "  'height': '183',\n",
       "  'mass': '84',\n",
       "  'hair_color': 'black',\n",
       "  'skin_color': 'light',\n",
       "  'eye_color': 'brown',\n",
       "  'birth_year': '24BBY',\n",
       "  'gender': 'male',\n",
       "  'homeworld': 'http://swapi.dev/api/planets/1/',\n",
       "  'films': ['http://swapi.dev/api/films/1/'],\n",
       "  'species': [],\n",
       "  'vehicles': [],\n",
       "  'starships': ['http://swapi.dev/api/starships/12/'],\n",
       "  'created': '2014-12-10T15:59:50.509000Z',\n",
       "  'edited': '2014-12-20T21:17:50.323000Z',\n",
       "  'url': 'http://swapi.dev/api/people/9/'},\n",
       " {'name': 'Obi-Wan Kenobi',\n",
       "  'height': '182',\n",
       "  'mass': '77',\n",
       "  'hair_color': 'auburn, white',\n",
       "  'skin_color': 'fair',\n",
       "  'eye_color': 'blue-gray',\n",
       "  'birth_year': '57BBY',\n",
       "  'gender': 'male',\n",
       "  'homeworld': 'http://swapi.dev/api/planets/20/',\n",
       "  'films': ['http://swapi.dev/api/films/1/',\n",
       "   'http://swapi.dev/api/films/2/',\n",
       "   'http://swapi.dev/api/films/3/',\n",
       "   'http://swapi.dev/api/films/4/',\n",
       "   'http://swapi.dev/api/films/5/',\n",
       "   'http://swapi.dev/api/films/6/'],\n",
       "  'species': [],\n",
       "  'vehicles': ['http://swapi.dev/api/vehicles/38/'],\n",
       "  'starships': ['http://swapi.dev/api/starships/48/',\n",
       "   'http://swapi.dev/api/starships/59/',\n",
       "   'http://swapi.dev/api/starships/64/',\n",
       "   'http://swapi.dev/api/starships/65/',\n",
       "   'http://swapi.dev/api/starships/74/'],\n",
       "  'created': '2014-12-10T16:16:29.192000Z',\n",
       "  'edited': '2014-12-20T21:17:50.325000Z',\n",
       "  'url': 'http://swapi.dev/api/people/10/'}]"
      ]
     },
     "execution_count": 24,
     "metadata": {},
     "output_type": "execute_result"
    }
   ],
   "source": [
    "liste_sw['results']"
   ]
  },
  {
   "cell_type": "code",
   "execution_count": 25,
   "metadata": {},
   "outputs": [
    {
     "name": "stdout",
     "output_type": "stream",
     "text": [
      "Luke Skywalker\n",
      "C-3PO\n",
      "R2-D2\n",
      "Darth Vader\n",
      "Leia Organa\n",
      "Owen Lars\n",
      "Beru Whitesun lars\n",
      "R5-D4\n",
      "Biggs Darklighter\n",
      "Obi-Wan Kenobi\n"
     ]
    }
   ],
   "source": [
    "for element in liste_sw['results']:\n",
    "    print(element['name'])"
   ]
  },
  {
   "cell_type": "code",
   "execution_count": 34,
   "metadata": {},
   "outputs": [],
   "source": [
    "dictest = {}"
   ]
  },
  {
   "cell_type": "code",
   "execution_count": 35,
   "metadata": {},
   "outputs": [],
   "source": [
    "for element in liste_sw['results']:\n",
    "    dictest[\"Quelle est la taille de {} ?\".format(element['name'])] = element['height']\n",
    "    dictest[\"Quelle est le poids de {} ?\".format(element['name'])] = element['mass']\n",
    "    dictest[\"Quelle est la couleur des cheveux de {} ?\".format(element['name'])] = element['hair_color']\n",
    "    dictest[\"Quelle est la couleur de peau de {} ?\".format(element['name'])] = element['skin_color']\n",
    "    dictest[\"Quelle est la couleur des yeux de {} ?\".format(element['name'])] = element['eye_color']\n",
    "    dictest[\"Quelle est la date de naissance de {} ?\".format(element['name'])] = element['birth_year']\n",
    "    \n",
    "    "
   ]
  },
  {
   "cell_type": "code",
   "execution_count": 44,
   "metadata": {},
   "outputs": [],
   "source": [
    "import random"
   ]
  },
  {
   "cell_type": "code",
   "execution_count": 65,
   "metadata": {},
   "outputs": [
    {
     "name": "stdout",
     "output_type": "stream",
     "text": [
      "[('Quelle est la date de naissance de C-3PO ?', '112BBY'), ('Quelle est la couleur des yeux de Darth Vader ?', 'yellow'), ('Quelle est la couleur des yeux de Biggs Darklighter ?', 'brown')]\n"
     ]
    }
   ],
   "source": [
    "liste_questions = list(dictest.items())\n",
    "three_random_question = []\n",
    "for i in range(3):\n",
    "    three_random_question.append(random.choice(liste_questions))\n",
    "print(three_random_question)"
   ]
  },
  {
   "cell_type": "code",
   "execution_count": 66,
   "metadata": {},
   "outputs": [
    {
     "data": {
      "text/plain": [
       "[('Quelle est la date de naissance de C-3PO ?', '112BBY'),\n",
       " ('Quelle est la couleur des yeux de Darth Vader ?', 'yellow'),\n",
       " ('Quelle est la couleur des yeux de Biggs Darklighter ?', 'brown')]"
      ]
     },
     "execution_count": 66,
     "metadata": {},
     "output_type": "execute_result"
    }
   ],
   "source": [
    "three_random_question"
   ]
  },
  {
   "cell_type": "code",
   "execution_count": 68,
   "metadata": {},
   "outputs": [],
   "source": [
    "randomized_dic = {}\n",
    "for element in three_random_question:\n",
    "    randomized_dic[element[0]] = element[1]"
   ]
  },
  {
   "cell_type": "code",
   "execution_count": 69,
   "metadata": {},
   "outputs": [
    {
     "data": {
      "text/plain": [
       "{'Quelle est la date de naissance de C-3PO ?': '112BBY',\n",
       " 'Quelle est la couleur des yeux de Darth Vader ?': 'yellow',\n",
       " 'Quelle est la couleur des yeux de Biggs Darklighter ?': 'brown'}"
      ]
     },
     "execution_count": 69,
     "metadata": {},
     "output_type": "execute_result"
    }
   ],
   "source": [
    "randomized_dic"
   ]
  },
  {
   "cell_type": "code",
   "execution_count": null,
   "metadata": {},
   "outputs": [],
   "source": []
  }
 ],
 "metadata": {
  "colab": {
   "collapsed_sections": [],
   "name": "02-Rebuild_a_quiz.ipynb",
   "provenance": []
  },
  "kernelspec": {
   "display_name": "Python 3",
   "language": "python",
   "name": "python3"
  },
  "language_info": {
   "codemirror_mode": {
    "name": "ipython",
    "version": 3
   },
   "file_extension": ".py",
   "mimetype": "text/x-python",
   "name": "python",
   "nbconvert_exporter": "python",
   "pygments_lexer": "ipython3",
   "version": "3.7.6"
  }
 },
 "nbformat": 4,
 "nbformat_minor": 1
}
